{
  "nbformat": 4,
  "nbformat_minor": 0,
  "metadata": {
    "colab": {
      "name": "bone.ipynb",
      "provenance": [],
      "authorship_tag": "ABX9TyOUA17qOr4nUVFe4CSEQyw3",
      "include_colab_link": true
    },
    "kernelspec": {
      "name": "python3",
      "display_name": "Python 3"
    },
    "accelerator": "GPU"
  },
  "cells": [
    {
      "cell_type": "markdown",
      "metadata": {
        "id": "view-in-github",
        "colab_type": "text"
      },
      "source": [
        "<a href=\"https://colab.research.google.com/github/Marwa-Afnouch/Marwa-Thesis/blob/master/bone.ipynb\" target=\"_parent\"><img src=\"https://colab.research.google.com/assets/colab-badge.svg\" alt=\"Open In Colab\"/></a>"
      ]
    },
    {
      "cell_type": "code",
      "metadata": {
        "colab": {
          "base_uri": "https://localhost:8080/"
        },
        "id": "8BpEvr8dt1ox",
        "outputId": "b5a7e2f0-9a05-4e9b-bbc9-b38512b64d69"
      },
      "source": [
        "# Upload google drive in our COLAB\r\n",
        "\r\n",
        "from google.colab import drive\r\n",
        "drive.mount('/content/drive')"
      ],
      "execution_count": 1,
      "outputs": [
        {
          "output_type": "stream",
          "text": [
            "Mounted at /content/drive\n"
          ],
          "name": "stdout"
        }
      ]
    },
    {
      "cell_type": "code",
      "metadata": {
        "id": "Yj5tEdAHuvZd"
      },
      "source": [
        "# install tensorflow version 2\r\n",
        "%tensorflow_version 2.x"
      ],
      "execution_count": 2,
      "outputs": []
    },
    {
      "cell_type": "code",
      "metadata": {
        "id": "Q4SjkMGxv7ZO"
      },
      "source": [
        "# Importing librar\r\n",
        "\r\n",
        "import tensorflow.keras\r\n",
        "from tensorflow.keras.models import Model\r\n",
        "from tensorflow.keras.layers import Input, Dense, Activation, Flatten, Conv2D, MaxPool2D, Dropout\r\n",
        "from tensorflow.keras.optimizers import Adam \r\n",
        "from tensorflow.keras.preprocessing.image import ImageDataGenerator\r\n",
        "from tensorflow.keras.losses import binary_crossentropy\r\n",
        "from tensorflow.keras import metrics\r\n",
        "import matplotlib.pyplot as plt\r\n",
        "from sklearn.metrics import classification_report, confusion_matrix, plot_confusion_matrix, ConfusionMatrixDisplay\r\n",
        "import numpy as np"
      ],
      "execution_count": 3,
      "outputs": []
    },
    {
      "cell_type": "code",
      "metadata": {
        "id": "Tu-NydKhwJod"
      },
      "source": [
        "# Create path\r\n",
        "\r\n",
        "train_loc = '//content/drive/MyDrive/our_Data_div/train'\r\n",
        "test_loc = '/content/drive/MyDrive/our_Data_div/val'"
      ],
      "execution_count": 4,
      "outputs": []
    },
    {
      "cell_type": "code",
      "metadata": {
        "colab": {
          "base_uri": "https://localhost:8080/"
        },
        "id": "Ofi8pY5twcMG",
        "outputId": "47f90a84-5129-4a73-f1aa-9405d42e69e1"
      },
      "source": [
        "# resize images \r\n",
        "\r\n",
        "trdata = ImageDataGenerator(rescale= 1./255,\r\n",
        "                            shear_range = 0.2,\r\n",
        "                            zoom_range = 0.2,\r\n",
        "                            horizontal_flip = True,\r\n",
        ")\r\n",
        "\r\n",
        "traindata = trdata.flow_from_directory(directory = train_loc, target_size = (224,224))\r\n",
        "\r\n",
        "tsdata = ImageDataGenerator(rescale= 1./255,\r\n",
        "                            shear_range = 0.2,\r\n",
        "                            zoom_range = 0.2,\r\n",
        "                            horizontal_flip = True,\r\n",
        ")\r\n",
        "\r\n",
        "testdata = tsdata.flow_from_directory(directory = test_loc, target_size = (224,224))"
      ],
      "execution_count": 5,
      "outputs": [
        {
          "output_type": "stream",
          "text": [
            "Found 763 images belonging to 2 classes.\n",
            "Found 329 images belonging to 2 classes.\n"
          ],
          "name": "stdout"
        }
      ]
    },
    {
      "cell_type": "code",
      "metadata": {
        "colab": {
          "base_uri": "https://localhost:8080/"
        },
        "id": "yQZlZtetxiQj",
        "outputId": "a0429a94-5271-4922-ca79-63b75d5a7195"
      },
      "source": [
        "traindata.class_indices"
      ],
      "execution_count": 6,
      "outputs": [
        {
          "output_type": "execute_result",
          "data": {
            "text/plain": [
              "{'Abnormal': 0, 'Normal': 1}"
            ]
          },
          "metadata": {
            "tags": []
          },
          "execution_count": 6
        }
      ]
    },
    {
      "cell_type": "code",
      "metadata": {
        "id": "YXI8VmA-x_46"
      },
      "source": [
        "# define input image\r\n",
        "input_shape = (224,224,3)\r\n",
        "\r\n",
        "# create the Network\r\n",
        "# Input layer\r\n",
        "img_imput = Input(shape  = input_shape, name = 'img_input')\r\n",
        "\r\n",
        "# Convo layers\r\n",
        "x = Conv2D(32, (3,3) , padding = 'same' , activation='relu', name = 'layer_1') (img_imput)\r\n",
        "x = Conv2D(64, (3,3) , padding = 'same' , activation='relu', name = 'layer_2') (x)\r\n",
        "x = MaxPool2D((2,2), strides=(2,2), name = 'layer_3') (x)\r\n",
        "x = Dropout(0.25)(x)\r\n",
        "\r\n",
        "x = Conv2D(64, (3,3) , padding = 'same' , activation='relu', name = 'layer_4') (x)\r\n",
        "x = MaxPool2D((2,2), strides=(2,2), name = 'layer_5') (x)\r\n",
        "x = Dropout(0.25)(x)\r\n",
        "\r\n",
        "x = Conv2D(128, (3,3) , padding = 'same' , activation='relu', name = 'layer_6') (x)\r\n",
        "x = MaxPool2D((2,2), strides=(2,2), name = 'layer_7') (x)\r\n",
        "x = Dropout(0.25)(x)\r\n",
        "\r\n",
        "x = Flatten(name = 'fc_1')(x)\r\n",
        "x= Dense(64, name = 'lyaer_8')(x)\r\n",
        "x = Dropout(0.5) (x)\r\n",
        "x = Dense(2, activation='sigmoid', name='predictions')(x)\r\n"
      ],
      "execution_count": 7,
      "outputs": []
    },
    {
      "cell_type": "code",
      "metadata": {
        "id": "PJ9RRDk06zSC"
      },
      "source": [
        "# Generate the model\r\n",
        "model = Model(inputs = img_imput, outputs =x , name='CNN_BONE')"
      ],
      "execution_count": 8,
      "outputs": []
    },
    {
      "cell_type": "code",
      "metadata": {
        "colab": {
          "base_uri": "https://localhost:8080/"
        },
        "id": "QfZV8eAL8NeA",
        "outputId": "d5fd3520-3fd9-4055-feb7-720754e91251"
      },
      "source": [
        "# Print network structure\r\n",
        "model.summary()"
      ],
      "execution_count": 9,
      "outputs": [
        {
          "output_type": "stream",
          "text": [
            "Model: \"CNN_BONE\"\n",
            "_________________________________________________________________\n",
            "Layer (type)                 Output Shape              Param #   \n",
            "=================================================================\n",
            "img_input (InputLayer)       [(None, 224, 224, 3)]     0         \n",
            "_________________________________________________________________\n",
            "layer_1 (Conv2D)             (None, 224, 224, 32)      896       \n",
            "_________________________________________________________________\n",
            "layer_2 (Conv2D)             (None, 224, 224, 64)      18496     \n",
            "_________________________________________________________________\n",
            "layer_3 (MaxPooling2D)       (None, 112, 112, 64)      0         \n",
            "_________________________________________________________________\n",
            "dropout (Dropout)            (None, 112, 112, 64)      0         \n",
            "_________________________________________________________________\n",
            "layer_4 (Conv2D)             (None, 112, 112, 64)      36928     \n",
            "_________________________________________________________________\n",
            "layer_5 (MaxPooling2D)       (None, 56, 56, 64)        0         \n",
            "_________________________________________________________________\n",
            "dropout_1 (Dropout)          (None, 56, 56, 64)        0         \n",
            "_________________________________________________________________\n",
            "layer_6 (Conv2D)             (None, 56, 56, 128)       73856     \n",
            "_________________________________________________________________\n",
            "layer_7 (MaxPooling2D)       (None, 28, 28, 128)       0         \n",
            "_________________________________________________________________\n",
            "dropout_2 (Dropout)          (None, 28, 28, 128)       0         \n",
            "_________________________________________________________________\n",
            "fc_1 (Flatten)               (None, 100352)            0         \n",
            "_________________________________________________________________\n",
            "lyaer_8 (Dense)              (None, 64)                6422592   \n",
            "_________________________________________________________________\n",
            "dropout_3 (Dropout)          (None, 64)                0         \n",
            "_________________________________________________________________\n",
            "predictions (Dense)          (None, 2)                 130       \n",
            "=================================================================\n",
            "Total params: 6,552,898\n",
            "Trainable params: 6,552,898\n",
            "Non-trainable params: 0\n",
            "_________________________________________________________________\n"
          ],
          "name": "stdout"
        }
      ]
    },
    {
      "cell_type": "code",
      "metadata": {
        "id": "o7WjWSMC9Gue"
      },
      "source": [
        "# Compiling the model\r\n",
        "model.compile(optimizer='adam', loss=binary_crossentropy, metrics=['accuracy'])"
      ],
      "execution_count": 10,
      "outputs": []
    },
    {
      "cell_type": "code",
      "metadata": {
        "colab": {
          "base_uri": "https://localhost:8080/"
        },
        "id": "7KZrX6sH9Yx8",
        "outputId": "831bf015-2d45-497a-96fc-22f1b7447ea6"
      },
      "source": [
        "# start Train/Test\r\n",
        "batch_size = 32\r\n",
        "hist = model.fit(traindata, steps_per_epoch = traindata.samples//batch_size,\r\n",
        "                 validation_data = testdata,validation_steps = testdata.samples//batch_size,\r\n",
        "                 epochs = 10\r\n",
        "                 )"
      ],
      "execution_count": 11,
      "outputs": [
        {
          "output_type": "stream",
          "text": [
            "Epoch 1/10\n",
            "23/23 [==============================] - 387s 17s/step - loss: 0.7548 - accuracy: 0.6237 - val_loss: 0.2575 - val_accuracy: 0.9656\n",
            "Epoch 2/10\n",
            "23/23 [==============================] - 16s 718ms/step - loss: 0.1656 - accuracy: 0.9666 - val_loss: 0.0636 - val_accuracy: 0.9750\n",
            "Epoch 3/10\n",
            "23/23 [==============================] - 16s 713ms/step - loss: 0.1189 - accuracy: 0.9754 - val_loss: 0.0825 - val_accuracy: 0.9781\n",
            "Epoch 4/10\n",
            "23/23 [==============================] - 16s 721ms/step - loss: 0.1092 - accuracy: 0.9760 - val_loss: 0.0570 - val_accuracy: 0.9781\n",
            "Epoch 5/10\n",
            "23/23 [==============================] - 16s 704ms/step - loss: 0.0586 - accuracy: 0.9862 - val_loss: 0.0649 - val_accuracy: 0.9750\n",
            "Epoch 6/10\n",
            "23/23 [==============================] - 16s 708ms/step - loss: 0.0556 - accuracy: 0.9884 - val_loss: 0.0633 - val_accuracy: 0.9750\n",
            "Epoch 7/10\n",
            "23/23 [==============================] - 16s 709ms/step - loss: 0.0572 - accuracy: 0.9867 - val_loss: 0.0469 - val_accuracy: 0.9781\n",
            "Epoch 8/10\n",
            "23/23 [==============================] - 16s 694ms/step - loss: 0.0469 - accuracy: 0.9815 - val_loss: 0.0615 - val_accuracy: 0.9750\n",
            "Epoch 9/10\n",
            "23/23 [==============================] - 16s 700ms/step - loss: 0.0473 - accuracy: 0.9848 - val_loss: 0.0622 - val_accuracy: 0.9719\n",
            "Epoch 10/10\n",
            "23/23 [==============================] - 16s 698ms/step - loss: 0.0679 - accuracy: 0.9732 - val_loss: 0.0367 - val_accuracy: 0.9875\n"
          ],
          "name": "stdout"
        }
      ]
    },
    {
      "cell_type": "code",
      "metadata": {
        "colab": {
          "base_uri": "https://localhost:8080/",
          "height": 281
        },
        "id": "VB9VoE3C_3r3",
        "outputId": "f4f00b8d-97db-4705-8e3b-229a1feae24e"
      },
      "source": [
        "plt.plot(hist.history['loss'], label = 'train')\r\n",
        "plt.plot(hist.history['val_loss'], label = 'val')\r\n",
        "plt.title('CNN_BONE :  Loss  &  Validation Loss')\r\n",
        "plt.legend()\r\n",
        "plt.show()"
      ],
      "execution_count": 12,
      "outputs": [
        {
          "output_type": "display_data",
          "data": {
            "image/png": "[encoded data removed]",
            "text/plain": [
              "<Figure size 432x288 with 1 Axes>"
            ]
          },
          "metadata": {
            "tags": [],
            "needs_background": "light"
          }
        }
      ]
    },
    {
      "cell_type": "code",
      "metadata": {
        "colab": {
          "base_uri": "https://localhost:8080/",
          "height": 281
        },
        "id": "Ij-NKvTCALbL",
        "outputId": "58db3178-a2e3-48a6-ad35-303f4b57ef4e"
      },
      "source": [
        "plt.plot(hist.history['accuracy'], label = 'train')\r\n",
        "plt.plot(hist.history['val_accuracy'], label = 'val')\r\n",
        "plt.title('CNN_BONE :  Accuracy  &  Validation Accuracy')\r\n",
        "plt.legend()\r\n",
        "plt.show()"
      ],
      "execution_count": 13,
      "outputs": [
        {
          "output_type": "display_data",
          "data": {
            "image/png": "[encoded data removed]",
            "text/plain": [
              "<Figure size 432x288 with 1 Axes>"
            ]
          },
          "metadata": {
            "tags": [],
            "needs_background": "light"
          }
        }
      ]
    },
    {
      "cell_type": "code",
      "metadata": {
        "colab": {
          "base_uri": "https://localhost:8080/",
          "height": 558
        },
        "id": "4lVnmxDbAY0l",
        "outputId": "475ea3c3-56e1-4038-8b4c-a0796c2a2f7d"
      },
      "source": [
        "# Confusion Matrix  & Pres  & Recall   & F1-Score\r\n",
        "\r\n",
        "target_names = ['abnormal', 'normal']\r\n",
        "label_names = [0,1]\r\n",
        "\r\n",
        "Y_pred = model.predict_generator(testdata)\r\n",
        "y_pred = np.argmax(Y_pred ,  axis = 1)\r\n",
        "\r\n",
        "cm = confusion_matrix(testdata.classes, y_pred, labels = label_names)\r\n",
        "\r\n",
        "\r\n",
        "print('Confusion Matrix')\r\n",
        "print(confusion_matrix(testdata.classes, y_pred))\r\n",
        "\r\n",
        "print('classification_Report')\r\n",
        "print(classification_report(testdata.classes, y_pred, target_names=target_names))\r\n",
        "\r\n",
        "disp = ConfusionMatrixDisplay(confusion_matrix= cm, display_labels=target_names)\r\n",
        "disp = disp.plot(cmap=plt.cm.Blues, values_format = 'g')\r\n",
        "plt.show()"
      ],
      "execution_count": 15,
      "outputs": [
        {
          "output_type": "stream",
          "text": [
            "/usr/local/lib/python3.6/dist-packages/tensorflow/python/keras/engine/training.py:1905: UserWarning: `Model.predict_generator` is deprecated and will be removed in a future version. Please use `Model.predict`, which supports generators.\n",
            "  warnings.warn('`Model.predict_generator` is deprecated and '\n"
          ],
          "name": "stderr"
        },
        {
          "output_type": "stream",
          "text": [
            "Confusion Matrix\n",
            "[[83 85]\n",
            " [90 71]]\n",
            "classification_Report\n",
            "              precision    recall  f1-score   support\n",
            "\n",
            "    abnormal       0.48      0.49      0.49       168\n",
            "      normal       0.46      0.44      0.45       161\n",
            "\n",
            "    accuracy                           0.47       329\n",
            "   macro avg       0.47      0.47      0.47       329\n",
            "weighted avg       0.47      0.47      0.47       329\n",
            "\n"
          ],
          "name": "stdout"
        },
        {
          "output_type": "display_data",
          "data": {
            "image/png": "[encoded data removed]",
            "text/plain": [
              "<Figure size 432x288 with 2 Axes>"
            ]
          },
          "metadata": {
            "tags": [],
            "needs_background": "light"
          }
        }
      ]
    }
  ]
}